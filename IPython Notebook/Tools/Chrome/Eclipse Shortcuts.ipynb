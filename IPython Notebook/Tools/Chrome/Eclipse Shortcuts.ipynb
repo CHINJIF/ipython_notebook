{
 "cells": [
  {
   "cell_type": "markdown",
   "metadata": {},
   "source": [
    "# Eclipse on Fly"
   ]
  },
  {
   "cell_type": "markdown",
   "metadata": {},
   "source": [
    "**shortcuts:** https://www.shortcutworld.com/en/win/Eclipse.html"
   ]
  },
  {
   "cell_type": "markdown",
   "metadata": {},
   "source": [
    "### I. Navigation"
   ]
  },
  {
   "cell_type": "markdown",
   "metadata": {},
   "source": [
    "    1.Ctrl+F7/Ctrl+Shift+F7\t                switching back and forth between Package Explorer and Editor.\n",
    "    2.Shift+F10\t                            Show Context Menu right click with mouse\n",
    "    "
   ]
  },
  {
   "cell_type": "markdown",
   "metadata": {},
   "source": [
    "### II. Navigate in Editor"
   ]
  },
  {
   "cell_type": "markdown",
   "metadata": {},
   "source": [
    "    1. Ctrl+Shift+Arrow Down/Arrow Up        Jump to previous / jump to next method\n",
    "    2. Ctrl+L\t                             Jump to Line Number.\n",
    "    3. ctrl+F10                              To hide/show line numbers, press and select 'Show Line Numbers'\n",
    "    3. Ctrl+Q\t                             Jump to last location edited"
   ]
  },
  {
   "cell_type": "code",
   "execution_count": null,
   "metadata": {
    "collapsed": true
   },
   "outputs": [],
   "source": []
  }
 ],
 "metadata": {
  "kernelspec": {
   "display_name": "Python 3",
   "language": "python",
   "name": "python3"
  },
  "language_info": {
   "codemirror_mode": {
    "name": "ipython",
    "version": 3
   },
   "file_extension": ".py",
   "mimetype": "text/x-python",
   "name": "python",
   "nbconvert_exporter": "python",
   "pygments_lexer": "ipython3",
   "version": "3.5.1"
  }
 },
 "nbformat": 4,
 "nbformat_minor": 0
}
