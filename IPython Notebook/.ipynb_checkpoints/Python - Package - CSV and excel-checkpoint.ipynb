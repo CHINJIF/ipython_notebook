{
 "cells": [
  {
   "cell_type": "markdown",
   "metadata": {},
   "source": [
    "# CSV Package"
   ]
  },
  {
   "cell_type": "markdown",
   "metadata": {},
   "source": [
    "## Basic"
   ]
  },
  {
   "cell_type": "markdown",
   "metadata": {},
   "source": [
    "### I. Parse csv file"
   ]
  },
  {
   "cell_type": "markdown",
   "metadata": {},
   "source": [
    "**1. Read CSV**\n",
    "  * sample file"
   ]
  },
  {
   "cell_type": "raw",
   "metadata": {},
   "source": [
    "    Jul-18,Mon,\"Claude Debussy\n",
    "    La mar\"\n",
    "    Aug-10,Wed,\"Henri Dutilleux\n",
    "    No.5\""
   ]
  },
  {
   "cell_type": "code",
   "execution_count": 54,
   "metadata": {
    "collapsed": false
   },
   "outputs": [
    {
     "name": "stdout",
     "output_type": "stream",
     "text": [
      "['Jul-18', 'Mon', 'Claude Debussy\\nLa mar']\n",
      "['Aug-10', 'Wed', 'Henri Dutilleux\\nNo.5']\n"
     ]
    }
   ],
   "source": [
    "import csv\n",
    "\n",
    "with open(\"document/prmos.csv\", \"r\") as csvfile:\n",
    "    # reader = csv.reader(csvfile)\n",
    "    reader = csv.reader(csvfile, delimiter=',', quotechar='\"')\n",
    "    for row in reader:\n",
    "        print(row)"
   ]
  },
  {
   "cell_type": "markdown",
   "metadata": {},
   "source": [
    "  * **quotechar**: A one-character string used to quote fields containing special characters, such as the delimiter or quotechar, or which contain **new-line characters**. It defaults to '\"'.\n",
    "        e.g In the above example, between double quote, we could have a paragraph.\n",
    "        'Claude Debussy\\nLa mar'"
   ]
  },
  {
   "cell_type": "markdown",
   "metadata": {},
   "source": [
    "**2. Read line by line, streaming**"
   ]
  },
  {
   "cell_type": "code",
   "execution_count": 55,
   "metadata": {
    "collapsed": false
   },
   "outputs": [
    {
     "name": "stdout",
     "output_type": "stream",
     "text": [
      "['Jul-18', 'Mon', 'Claude Debussy\\nLa mar']\n",
      "['Aug-10', 'Wed', 'Henri Dutilleux\\nNo.5']\n",
      "4\n"
     ]
    },
    {
     "ename": "StopIteration",
     "evalue": "",
     "output_type": "error",
     "traceback": [
      "\u001b[1;31m---------------------------------------------------------------------------\u001b[0m",
      "\u001b[1;31mStopIteration\u001b[0m                             Traceback (most recent call last)",
      "\u001b[1;32m<ipython-input-55-e8ad3a0bd68a>\u001b[0m in \u001b[0;36m<module>\u001b[1;34m()\u001b[0m\n\u001b[0;32m      3\u001b[0m \u001b[0mprint\u001b[0m\u001b[1;33m(\u001b[0m\u001b[0mreader\u001b[0m\u001b[1;33m.\u001b[0m\u001b[0m__next__\u001b[0m\u001b[1;33m(\u001b[0m\u001b[1;33m)\u001b[0m\u001b[1;33m)\u001b[0m\u001b[1;33m\u001b[0m\u001b[0m\n\u001b[0;32m      4\u001b[0m \u001b[0mprint\u001b[0m\u001b[1;33m(\u001b[0m\u001b[0mreader\u001b[0m\u001b[1;33m.\u001b[0m\u001b[0mline_num\u001b[0m\u001b[1;33m)\u001b[0m\u001b[1;33m\u001b[0m\u001b[0m\n\u001b[1;32m----> 5\u001b[1;33m \u001b[0mprint\u001b[0m\u001b[1;33m(\u001b[0m\u001b[0mreader\u001b[0m\u001b[1;33m.\u001b[0m\u001b[0m__next__\u001b[0m\u001b[1;33m(\u001b[0m\u001b[1;33m)\u001b[0m\u001b[1;33m)\u001b[0m\u001b[1;33m\u001b[0m\u001b[0m\n\u001b[0m",
      "\u001b[1;31mStopIteration\u001b[0m: "
     ]
    }
   ],
   "source": [
    "reader = csv.reader(open(\"document/prmos.csv\", \"r\"))\n",
    "print(reader.__next__())\n",
    "print(reader.__next__())\n",
    "print(reader.line_num)\n",
    "print(reader.__next__())"
   ]
  },
  {
   "cell_type": "markdown",
   "metadata": {},
   "source": [
    "**3. Wrtie CSV**"
   ]
  },
  {
   "cell_type": "markdown",
   "metadata": {},
   "source": [
    "**4. Reader and Writer csv type**"
   ]
  },
  {
   "cell_type": "markdown",
   "metadata": {},
   "source": [
    "# Excel - xlrd"
   ]
  },
  {
   "cell_type": "markdown",
   "metadata": {},
   "source": [
    "    Documentation: http://xlrd.readthedocs.io/en/latest/"
   ]
  },
  {
   "cell_type": "markdown",
   "metadata": {},
   "source": [
    "### I. Read excel file"
   ]
  },
  {
   "cell_type": "code",
   "execution_count": 24,
   "metadata": {
    "collapsed": false
   },
   "outputs": [
    {
     "name": "stdout",
     "output_type": "stream",
     "text": [
      "<xlrd.book.Book object at 0x0000000005964748>\n",
      "['__class__', '__delattr__', '__dict__', '__dir__', '__doc__', '__enter__', '__eq__', '__exit__', '__format__', '__ge__', '__getattribute__', '__gt__', '__hash__', '__init__', '__le__', '__lt__', '__module__', '__ne__', '__new__', '__reduce__', '__reduce_ex__', '__repr__', '__setattr__', '__sizeof__', '__str__', '__subclasshook__', '__weakref__', '_all_sheets_count', '_all_sheets_map', '_externsheet_info', '_externsheet_type_b57', '_extnsht_count', '_extnsht_name_from_num', '_repr_these', '_resources_released', '_rich_text_runlist_map', '_sh_abs_posn', '_sharedstrings', '_sheet_list', '_sheet_names', '_sheet_num_from_name', '_sheet_visibility', '_sheethdr_count', '_supbook_addins_inx', '_supbook_count', '_supbook_locals_inx', '_supbook_types', '_xf_epilogue_done', '_xf_index_to_xl_type_map', 'actualfmtcount', 'addin_func_names', 'biff2_8_load', 'biff_version', 'builtinfmtcount', 'codepage', 'colour_map', 'countries', 'datemode', 'derive_encoding', 'dump', 'encoding', 'fake_globals_get_sheet', 'filestr', 'font_list', 'format_list', 'format_map', 'formatting_info', 'get2bytes', 'get_record_parts', 'get_record_parts_conditional', 'get_sheet', 'get_sheets', 'getbof', 'handle_boundsheet', 'handle_builtinfmtcount', 'handle_codepage', 'handle_country', 'handle_datemode', 'handle_externname', 'handle_externsheet', 'handle_filepass', 'handle_name', 'handle_obj', 'handle_sheethdr', 'handle_sheetsoffset', 'handle_sst', 'handle_supbook', 'handle_writeaccess', 'initialise_format_info', 'load_time_stage_1', 'load_time_stage_2', 'logfile', 'mem', 'name_and_scope_map', 'name_map', 'name_obj_list', 'names_epilogue', 'nsheets', 'on_demand', 'palette_record', 'parse_globals', 'props', 'ragged_rows', 'raw_user_name', 'read', 'release_resources', 'sheet_by_index', 'sheet_by_name', 'sheet_loaded', 'sheet_names', 'sheets', 'style_name_map', 'unload_sheet', 'use_mmap', 'user_name', 'verbosity', 'xf_list', 'xfcount']\n"
     ]
    }
   ],
   "source": [
    "from mmap import mmap, ACCESS_READ\n",
    "from xlrd import open_workbook\n",
    "\n",
    "with open(\"document/personal goals.xlsx\") as f:\n",
    "    wb = open_workbook(file_contents=mmap(f.fileno(), 0, access=ACCESS_READ))\n",
    "    print(book)\n",
    "    print(dir(book))"
   ]
  },
  {
   "cell_type": "markdown",
   "metadata": {},
   "source": [
    "### II. Navigating a Workbook"
   ]
  },
  {
   "cell_type": "code",
   "execution_count": 33,
   "metadata": {
    "collapsed": false
   },
   "outputs": [
    {
     "name": "stdout",
     "output_type": "stream",
     "text": [
      "Sheets:Sheet1\n",
      "Goal,\t\tSteps,\t\tType,\t\tTime /h,\t\t\n",
      "Python,\t\tPython Learning Path,\t\tVideo,\t\t,\t\t\n",
      ",\t\tLearning Python Design Patterns,\t\tBook,\t\t30.0,\t\t□\n",
      "Big Data,\t\tIntroduction to Apache Kafka - Safari,\t\tVideo,\t\t5.0,\t\t√\n",
      ",\t\tIntroduction to Apache Spark - Coursera,\t\tVideo,\t\t25.0,\t\t□\n",
      ",\t\tDistributed Machine Learning with Apache Spark - edX,\t\tVideo,\t\t25.0,\t\t□\n",
      ",\t\tBig Data Analysis with Apache Spark - edX,\t\tVideo,\t\t25.0,\t\t□\n",
      ",\t\t,\t\t,\t\t110.0,\t\t40.0\n",
      ",\t\t5 hour per week,\t\t,\t\t,\t\t\n",
      "Sheets:Sheet2\n",
      "Sheets:Sheet3\n"
     ]
    }
   ],
   "source": [
    "for s in wb.sheets():\n",
    "    print(\"Sheets:%s\" % s.name)\n",
    "    for row in range(s.nrows):\n",
    "        values = []\n",
    "        for col in range(s.ncols):\n",
    "            values.append(s.cell(row, col).value)\n",
    "        if values:\n",
    "            print(\",\\t\\t\".join(str(x) for x in values))"
   ]
  },
  {
   "cell_type": "code",
   "execution_count": null,
   "metadata": {
    "collapsed": true
   },
   "outputs": [],
   "source": []
  }
 ],
 "metadata": {
  "kernelspec": {
   "display_name": "Python 3",
   "language": "python",
   "name": "python3"
  },
  "language_info": {
   "codemirror_mode": {
    "name": "ipython",
    "version": 3
   },
   "file_extension": ".py",
   "mimetype": "text/x-python",
   "name": "python",
   "nbconvert_exporter": "python",
   "pygments_lexer": "ipython3",
   "version": "3.5.1"
  }
 },
 "nbformat": 4,
 "nbformat_minor": 0
}
